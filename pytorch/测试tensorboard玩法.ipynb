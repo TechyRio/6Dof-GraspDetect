{
 "cells": [
  {
   "cell_type": "code",
   "execution_count": 9,
   "id": "72cc963d",
   "metadata": {
    "ExecuteTime": {
     "end_time": "2021-04-25T11:12:11.517213Z",
     "start_time": "2021-04-25T11:12:01.918825Z"
    }
   },
   "outputs": [
    {
     "name": "stdout",
     "output_type": "stream",
     "text": [
      "Loaded images of shape torch.Size([6894, 60, 60, 12]), type torch.uint8, and labels of shape torch.Size([6894, 1]), type torch.int32.\n",
      "Loaded images of shape torch.Size([29999, 60, 60, 12]), type torch.uint8, and labels of shape torch.Size([29999, 1]), type torch.int32.\n",
      "cuda:0\n"
     ]
    }
   ],
   "source": [
    "import h5py\n",
    "#import h5py_cache as h5c\n",
    "import numpy as np\n",
    "import torch\n",
    "import torch.nn as nn\n",
    "import torch.nn.functional as F\n",
    "import torch.optim as optim\n",
    "import torch.utils.data as torchdata\n",
    "import torch.multiprocessing\n",
    "import sys\n",
    "\n",
    "#torch.multiprocessing.set_start_method('spawn')\n",
    "\n",
    "from hdf5_dataset import H5Dataset\n",
    "from network import Net, NetCCFFF\n",
    "\n",
    "\n",
    "\n",
    "test_set = H5Dataset('/home/wuxr/graspping/gpd-master/pytorch/gpd_orgin/data/for_test.h5')\n",
    "test_loader = torchdata.DataLoader(test_set, batch_size=64, shuffle=True)\n",
    "\n",
    "train_set = H5Dataset('/home/wuxr/graspping/gpd-master/pytorch/gpd_orgin/data/for_train.h5')\n",
    "#train_loader = torchdata.DataLoader(dset, batch_size=64, shuffle=True, num_workers=2)\n",
    "train_loader = torchdata.DataLoader(train_set, batch_size=64, shuffle=True)\n",
    "\n",
    "dataiter = iter(train_loader)\n",
    "images, labels = dataiter.next()\n",
    "\n",
    "# Use GPU.\n",
    "device = torch.device(\"cuda:0\" if torch.cuda.is_available() else \"cpu\")\n",
    "print(device)\n",
    "\n"
   ]
  },
  {
   "cell_type": "code",
   "execution_count": 18,
   "id": "f4324d26",
   "metadata": {
    "ExecuteTime": {
     "end_time": "2021-04-25T11:19:50.168914Z",
     "start_time": "2021-04-25T11:19:49.847348Z"
    }
   },
   "outputs": [
    {
     "name": "stdout",
     "output_type": "stream",
     "text": [
      "torch.Size([64, 12, 60, 60])\n"
     ]
    }
   ],
   "source": [
    "import torchvision\n",
    "import matplotlib.pyplot as plt\n",
    "import numpy as np\n",
    "print(images.shape)\n",
    "LR = 0.001\n",
    "CHANNELS = [20, 50, 500]\n",
    "class Net(nn.Module):\n",
    "    def __init__(self, input_channels):\n",
    "        super(Net, self).__init__()\n",
    "        self.conv1 = nn.Conv2d(input_channels, CHANNELS[0], 5)\n",
    "        self.pool = nn.MaxPool2d(2, 2)\n",
    "        self.conv2 = nn.Conv2d(CHANNELS[0], CHANNELS[1], 5)\n",
    "        self.fc1 = nn.Linear(CHANNELS[1] * 12 * 12, CHANNELS[2])\n",
    "        self.fc2 = nn.Linear(CHANNELS[2], 2)\n",
    "\n",
    "    def forward(self, x):\n",
    "        x = self.pool(F.relu(self.conv1(x)))\n",
    "        x = self.pool(F.relu(self.conv2(x)))\n",
    "        x = x.view(-1, x.shape[1] * x.shape[2] * x.shape[3])\n",
    "        x = F.relu(self.fc1(x))\n",
    "        x = self.fc2(x)\n",
    "        return x\n",
    "\n",
    "net=Net(12)\n",
    "\n",
    "criterion = nn.CrossEntropyLoss()\n",
    "#optimizer = optim.SGD(net.parameters(), lr=LR, momentum=0.9, weight_decay=0.0005)\n",
    "\n",
    "optimizer = optim.Adam(net.parameters(), lr=LR, weight_decay=0.0005)\n",
    "\n",
    "#加入tensorboard设置。\n",
    "from torch.utils.tensorboard import SummaryWriter\n",
    "# default `log_dir` is \"runs\" - we'll be more specific here\n",
    "writer = SummaryWriter('runs/log')\n",
    "#写入tensorbard中。\n",
    "writer.add_graph(net, images)\n",
    "writer.close()"
   ]
  },
  {
   "cell_type": "code",
   "execution_count": null,
   "id": "90177431",
   "metadata": {},
   "outputs": [],
   "source": []
  }
 ],
 "metadata": {
  "kernelspec": {
   "display_name": "base",
   "language": "python",
   "name": "base"
  },
  "language_info": {
   "codemirror_mode": {
    "name": "ipython",
    "version": 3
   },
   "file_extension": ".py",
   "mimetype": "text/x-python",
   "name": "python",
   "nbconvert_exporter": "python",
   "pygments_lexer": "ipython3",
   "version": "3.7.6"
  },
  "toc": {
   "base_numbering": 1,
   "nav_menu": {},
   "number_sections": true,
   "sideBar": true,
   "skip_h1_title": false,
   "title_cell": "Table of Contents",
   "title_sidebar": "Contents",
   "toc_cell": false,
   "toc_position": {},
   "toc_section_display": true,
   "toc_window_display": false
  },
  "varInspector": {
   "cols": {
    "lenName": 16,
    "lenType": 16,
    "lenVar": 40
   },
   "kernels_config": {
    "python": {
     "delete_cmd_postfix": "",
     "delete_cmd_prefix": "del ",
     "library": "var_list.py",
     "varRefreshCmd": "print(var_dic_list())"
    },
    "r": {
     "delete_cmd_postfix": ") ",
     "delete_cmd_prefix": "rm(",
     "library": "var_list.r",
     "varRefreshCmd": "cat(var_dic_list()) "
    }
   },
   "types_to_exclude": [
    "module",
    "function",
    "builtin_function_or_method",
    "instance",
    "_Feature"
   ],
   "window_display": false
  }
 },
 "nbformat": 4,
 "nbformat_minor": 5
}
